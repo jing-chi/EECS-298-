{
 "cells": [
  {
   "cell_type": "code",
   "id": "initial_id",
   "metadata": {
    "collapsed": true,
    "ExecuteTime": {
     "end_time": "2025-05-29T03:41:59.802174Z",
     "start_time": "2025-05-29T03:41:59.722735Z"
    }
   },
   "source": [
    "from symbol import yield_arg\n",
    "\n",
    "from meteostat import Point, Daily\n",
    "import pandas as pd\n",
    "from datetime import datetime\n",
    "\n",
    "from sklearn.preprocessing import MinMaxScaler\n",
    "\n",
    "# Define LA\n",
    "uci = Point(33.6405, -117.8443) # Latitude, Longitude of uci\n",
    "\n",
    "# Get daily data from 2015 to 2023\n",
    "start = datetime(2015, 1, 1)\n",
    "end = datetime(2023, 12, 31)\n",
    "\n",
    "data = Daily(uci, start, end)\n",
    "data = data.fetch()\n",
    "print(data.head())"
   ],
   "outputs": [
    {
     "name": "stdout",
     "output_type": "stream",
     "text": [
      "            tavg  tmin  tmax  prcp  snow  wdir  wspd  wpgt    pres  tsun\n",
      "time                                                                    \n",
      "2015-01-01  10.2   4.4  15.6   0.0   NaN   NaN   4.5   NaN  1019.8   NaN\n",
      "2015-01-02  11.0   5.6  16.1   0.0   NaN   NaN   3.2   NaN  1020.1   NaN\n",
      "2015-01-03  12.1   6.7  17.2   0.0   NaN   NaN   3.1   NaN  1023.3   NaN\n",
      "2015-01-04  13.0   6.1  21.1   0.0   NaN   NaN   1.9   NaN  1025.4   NaN\n",
      "2015-01-05  16.4   8.3  26.1   0.0   NaN   NaN   1.6   NaN  1022.2   NaN\n"
     ]
    }
   ],
   "execution_count": 30
  },
  {
   "metadata": {
    "ExecuteTime": {
     "end_time": "2025-05-29T03:42:03.703952Z",
     "start_time": "2025-05-29T03:42:03.683008Z"
    }
   },
   "cell_type": "code",
   "source": [
    "print(data.shape)\n",
    "print(data.count())"
   ],
   "id": "cd3454bb02933494",
   "outputs": [
    {
     "name": "stdout",
     "output_type": "stream",
     "text": [
      "(3287, 10)\n",
      "tavg    3287\n",
      "tmin    3287\n",
      "tmax    3287\n",
      "prcp    3287\n",
      "snow    1099\n",
      "wdir    2126\n",
      "wspd    3287\n",
      "wpgt       0\n",
      "pres    3286\n",
      "tsun       0\n",
      "dtype: int64\n"
     ]
    }
   ],
   "execution_count": 31
  },
  {
   "metadata": {
    "ExecuteTime": {
     "end_time": "2025-05-29T03:45:06.190325Z",
     "start_time": "2025-05-29T03:45:06.170349Z"
    }
   },
   "cell_type": "code",
   "source": [
    "data['snow'].fillna(0, inplace=True)\n",
    "data['wpgt'].fillna(0, inplace=True)\n",
    "data['tsun'].fillna(0, inplace=True)\n",
    "data['wdir'] = data['wdir'].interpolate(method='linear').fillna(method='bfill')\n"
   ],
   "id": "d7870c5c9997cc16",
   "outputs": [
    {
     "name": "stderr",
     "output_type": "stream",
     "text": [
      "FutureWarning: A value is trying to be set on a copy of a DataFrame or Series through chained assignment using an inplace method.\n",
      "The behavior will change in pandas 3.0. This inplace method will never work because the intermediate object on which we are setting values always behaves as a copy.\n",
      "\n",
      "For example, when doing 'df[col].method(value, inplace=True)', try using 'df.method({col: value}, inplace=True)' or df[col] = df[col].method(value) instead, to perform the operation inplace on the original object.\n",
      "\n",
      "\n",
      "FutureWarning: A value is trying to be set on a copy of a DataFrame or Series through chained assignment using an inplace method.\n",
      "The behavior will change in pandas 3.0. This inplace method will never work because the intermediate object on which we are setting values always behaves as a copy.\n",
      "\n",
      "For example, when doing 'df[col].method(value, inplace=True)', try using 'df.method({col: value}, inplace=True)' or df[col] = df[col].method(value) instead, to perform the operation inplace on the original object.\n",
      "\n",
      "\n",
      "FutureWarning: A value is trying to be set on a copy of a DataFrame or Series through chained assignment using an inplace method.\n",
      "The behavior will change in pandas 3.0. This inplace method will never work because the intermediate object on which we are setting values always behaves as a copy.\n",
      "\n",
      "For example, when doing 'df[col].method(value, inplace=True)', try using 'df.method({col: value}, inplace=True)' or df[col] = df[col].method(value) instead, to perform the operation inplace on the original object.\n",
      "\n",
      "\n",
      "FutureWarning: Series.fillna with 'method' is deprecated and will raise in a future version. Use obj.ffill() or obj.bfill() instead.\n"
     ]
    }
   ],
   "execution_count": 32
  },
  {
   "metadata": {
    "ExecuteTime": {
     "end_time": "2025-05-29T03:48:15.994897Z",
     "start_time": "2025-05-29T03:48:15.964008Z"
    }
   },
   "cell_type": "code",
   "source": [
    "data['day_of_year']=data.index.dayofyear\n",
    "data['month']=data.index.month\n",
    "data['season']=(data['month']%12)//3\n",
    "\n",
    "data['temp_range'] = data['tmax'] - data['tmin']\n",
    "\n",
    "data['is_rainy'] = (data['prcp']>0).astype(int)\n",
    "data['is_snowy'] = (data['snow']>0).astype(int)\n",
    "print(data.head())"
   ],
   "id": "5d934eae0c3e067",
   "outputs": [
    {
     "name": "stdout",
     "output_type": "stream",
     "text": [
      "            tavg  tmin  tmax  prcp  snow  wdir  wspd  wpgt    pres  tsun  \\\n",
      "time                                                                       \n",
      "2015-01-01  10.2   4.4  15.6   0.0   0.0  45.0   4.5   0.0  1019.8   0.0   \n",
      "2015-01-02  11.0   5.6  16.1   0.0   0.0  45.0   3.2   0.0  1020.1   0.0   \n",
      "2015-01-03  12.1   6.7  17.2   0.0   0.0  45.0   3.1   0.0  1023.3   0.0   \n",
      "2015-01-04  13.0   6.1  21.1   0.0   0.0  45.0   1.9   0.0  1025.4   0.0   \n",
      "2015-01-05  16.4   8.3  26.1   0.0   0.0  45.0   1.6   0.0  1022.2   0.0   \n",
      "\n",
      "            day_of_year  month  season  temp_range  is_rainy  is_snowy  \n",
      "time                                                                    \n",
      "2015-01-01            1      1       0        11.2         0         0  \n",
      "2015-01-02            2      1       0        10.5         0         0  \n",
      "2015-01-03            3      1       0        10.5         0         0  \n",
      "2015-01-04            4      1       0        15.0         0         0  \n",
      "2015-01-05            5      1       0        17.8         0         0  \n"
     ]
    }
   ],
   "execution_count": 33
  },
  {
   "metadata": {
    "ExecuteTime": {
     "end_time": "2025-05-29T04:09:47.280807Z",
     "start_time": "2025-05-29T04:09:47.251711Z"
    }
   },
   "cell_type": "code",
   "source": [
    "features = ['tavg', 'tmin', 'tmax', 'prcp', 'snow', 'wdir', 'wspd', 'wpgt', 'pres', 'tsun', \n",
    "            'day_of_year', 'season', 'temp_range', 'is_rainy', 'is_snowy']\n",
    "target = ['tavg']\n",
    "dataset = data[features+target]\n",
    "\n",
    "from sklearn.preprocessing import MinMaxScaler\n",
    "import numpy as np\n",
    "scaler = MinMaxScaler()\n",
    "scaled_data = scaler.fit_transform(dataset)\n",
    "\n",
    "def create_dataset(data, look_back=30):\n",
    "    X,y = [],[]\n",
    "    for i in range(len(data)-look_back-1):\n",
    "        X.append(data[i:(i+look_back), :-1])\n",
    "        y.append(data[i+look_back, -1])\n",
    "    return np.array(X), np.array(y)\n",
    "X,y = create_dataset(scaled_data)"
   ],
   "id": "ef13c72a2a1e962d",
   "outputs": [],
   "execution_count": 40
  },
  {
   "metadata": {
    "ExecuteTime": {
     "end_time": "2025-05-29T04:09:49.687816Z",
     "start_time": "2025-05-29T04:09:49.665874Z"
    }
   },
   "cell_type": "code",
   "source": [
    "import torch\n",
    "import torch.nn as nn\n",
    "from sklearn.model_selection import train_test_split\n",
    "\n",
    "X_train, X_test, y_train, y_test = train_test_split(\n",
    "    X, y, test_size=0.2, random_state=42, shuffle=False\n",
    ")\n",
    "\n",
    "X_train = torch.tensor(X_train, dtype=torch.float32)\n",
    "y_train = torch.tensor(y_train, dtype=torch.float32).view(-1, 1)\n",
    "X_test = torch.tensor(X_test, dtype=torch.float32)\n",
    "y_test = torch.tensor(y_test, dtype=torch.float32).view(-1, 1)\n",
    "\n",
    "from torch.utils.data import DataLoader, TensorDataset\n",
    "\n",
    "train_dataset = TensorDataset(X_train, y_train)\n",
    "test_dataset = TensorDataset(X_test, y_test)\n",
    "\n",
    "batch_size = 64\n",
    "train_loader = DataLoader(train_dataset, batch_size=batch_size, shuffle=True)\n",
    "test_loader = DataLoader(test_dataset, batch_size=batch_size, shuffle=False)"
   ],
   "id": "fc3b4a4945089dac",
   "outputs": [],
   "execution_count": 41
  },
  {
   "metadata": {
    "ExecuteTime": {
     "end_time": "2025-05-29T04:12:26.599756Z",
     "start_time": "2025-05-29T04:12:26.155139Z"
    }
   },
   "cell_type": "code",
   "source": [
    "class LSTM(nn.Module):\n",
    "    def __init__(self, inputsize, hiddensize, num_layers, outputsize):\n",
    "        super(LSTM, self).__init__()\n",
    "        self.hiddensize = hiddensize\n",
    "        self.num_layers = num_layers\n",
    "        \n",
    "        self.lstm  =  nn.LSTM(inputsize, hiddensize, num_layers, batch_first=True)\n",
    "        self.fc = nn.Linear(hiddensize, outputsize)\n",
    "        \n",
    "    def forward(self, x):\n",
    "        h0=torch.zeros(self.num_layers, x.size(0), self.hiddensize).to(x.device)\n",
    "        c0=torch.zeros(self.num_layers, x.size(0), self.hiddensize).to(x.device)\n",
    "        \n",
    "        out, _ = self.lstm(x, (h0, c0))\n",
    "        \n",
    "        out = self.fc(out[:, -1, :])\n",
    "        return out\n",
    "\n",
    "imput_size = len(features)\n",
    "hidden_size = 128\n",
    "num_layers = 2\n",
    "output_size = 1\n",
    "\n",
    "device = torch.device(\"cuda\" if torch.cuda.is_available() else \"cpu\")\n",
    "model=LSTM(inputsize=imput_size, hiddensize=hidden_size, num_layers=num_layers, outputsize=output_size).to(device)\n",
    "print(model)"
   ],
   "id": "989907e9a2aaaf44",
   "outputs": [
    {
     "name": "stdout",
     "output_type": "stream",
     "text": [
      "LSTM(\n",
      "  (lstm): LSTM(15, 128, num_layers=2, batch_first=True)\n",
      "  (fc): Linear(in_features=128, out_features=1, bias=True)\n",
      ")\n"
     ]
    }
   ],
   "execution_count": 43
  },
  {
   "metadata": {},
   "cell_type": "code",
   "outputs": [],
   "execution_count": null,
   "source": "",
   "id": "af5769c1b3f2ebe7"
  }
 ],
 "metadata": {
  "kernelspec": {
   "display_name": "Python 3",
   "language": "python",
   "name": "python3"
  },
  "language_info": {
   "codemirror_mode": {
    "name": "ipython",
    "version": 2
   },
   "file_extension": ".py",
   "mimetype": "text/x-python",
   "name": "python",
   "nbconvert_exporter": "python",
   "pygments_lexer": "ipython2",
   "version": "2.7.6"
  }
 },
 "nbformat": 4,
 "nbformat_minor": 5
}
